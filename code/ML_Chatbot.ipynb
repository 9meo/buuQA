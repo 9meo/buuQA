{
  "nbformat": 4,
  "nbformat_minor": 0,
  "metadata": {
    "colab": {
      "provenance": []
    },
    "kernelspec": {
      "name": "python3",
      "display_name": "Python 3"
    },
    "language_info": {
      "name": "python"
    }
  },
  "cells": [
    {
      "cell_type": "code",
      "execution_count": 1,
      "metadata": {
        "colab": {
          "base_uri": "https://localhost:8080/"
        },
        "id": "34DV5W0fSpF7",
        "outputId": "70855495-709a-4fba-eb47-4baf7c9d69ad"
      },
      "outputs": [
        {
          "output_type": "stream",
          "name": "stdout",
          "text": [
            "Requirement already satisfied: nltk in /usr/local/lib/python3.10/dist-packages (3.8.1)\n",
            "Requirement already satisfied: scikit-learn in /usr/local/lib/python3.10/dist-packages (1.2.2)\n",
            "Requirement already satisfied: click in /usr/local/lib/python3.10/dist-packages (from nltk) (8.1.7)\n",
            "Requirement already satisfied: joblib in /usr/local/lib/python3.10/dist-packages (from nltk) (1.3.2)\n",
            "Requirement already satisfied: regex>=2021.8.3 in /usr/local/lib/python3.10/dist-packages (from nltk) (2023.12.25)\n",
            "Requirement already satisfied: tqdm in /usr/local/lib/python3.10/dist-packages (from nltk) (4.66.1)\n",
            "Requirement already satisfied: numpy>=1.17.3 in /usr/local/lib/python3.10/dist-packages (from scikit-learn) (1.23.5)\n",
            "Requirement already satisfied: scipy>=1.3.2 in /usr/local/lib/python3.10/dist-packages (from scikit-learn) (1.11.4)\n",
            "Requirement already satisfied: threadpoolctl>=2.0.0 in /usr/local/lib/python3.10/dist-packages (from scikit-learn) (3.2.0)\n"
          ]
        }
      ],
      "source": [
        "!pip install nltk scikit-learn"
      ]
    },
    {
      "cell_type": "code",
      "source": [
        "import nltk\n",
        "nltk.download('punkt')\n",
        "nltk.download('wordnet')"
      ],
      "metadata": {
        "colab": {
          "base_uri": "https://localhost:8080/"
        },
        "id": "5sr-sN1uStYl",
        "outputId": "0e7f21cd-c581-45b6-a8ae-da6c19ec6412"
      },
      "execution_count": 2,
      "outputs": [
        {
          "output_type": "stream",
          "name": "stderr",
          "text": [
            "[nltk_data] Downloading package punkt to /root/nltk_data...\n",
            "[nltk_data]   Unzipping tokenizers/punkt.zip.\n",
            "[nltk_data] Downloading package wordnet to /root/nltk_data...\n"
          ]
        },
        {
          "output_type": "execute_result",
          "data": {
            "text/plain": [
              "True"
            ]
          },
          "metadata": {},
          "execution_count": 2
        }
      ]
    },
    {
      "cell_type": "code",
      "source": [
        "# Sample dataset\n",
        "dataset = {\n",
        "    \"greetings\": {\n",
        "        \"examples\": [\"Hello\", \"Hi\", \"Hey\"],\n",
        "        \"responses\": [\"Hello!\", \"Hi there!\", \"Hey!\"]\n",
        "    },\n",
        "    \"goodbye\": {\n",
        "        \"examples\": [\"Bye\", \"See you\", \"Goodbye\"],\n",
        "        \"responses\": [\"See you later!\", \"Goodbye!\", \"Bye! Have a great day!\"]\n",
        "    },\n",
        "    \"thanks\": {\n",
        "        \"examples\": [\"Thanks\", \"Thank you\", \"Thanks a lot\"],\n",
        "        \"responses\": [\"You're welcome!\", \"No problem!\", \"Glad to help!\"]\n",
        "    }\n",
        "}\n"
      ],
      "metadata": {
        "id": "3bIPmUC5Sul9"
      },
      "execution_count": 4,
      "outputs": []
    },
    {
      "cell_type": "code",
      "source": [
        "from sklearn.feature_extraction.text import TfidfVectorizer\n",
        "from sklearn.metrics.pairwise import cosine_similarity\n",
        "import random\n",
        "import numpy as np\n",
        "\n",
        "# Preparing the dataset for training\n",
        "sentences = []\n",
        "labels = []\n",
        "for intent, intent_data in dataset.items():\n",
        "    for example in intent_data[\"examples\"]:\n",
        "        sentences.append(example)\n",
        "        labels.append(intent)\n",
        "\n",
        "# Creating TF-IDF model\n",
        "vectorizer = TfidfVectorizer()\n",
        "X = vectorizer.fit_transform(sentences)\n"
      ],
      "metadata": {
        "id": "20Athu1aSwhW"
      },
      "execution_count": 5,
      "outputs": []
    },
    {
      "cell_type": "code",
      "source": [
        "def chatbot_response(text):\n",
        "    # Transform input text\n",
        "    text_vector = vectorizer.transform([text])\n",
        "\n",
        "    # Calculate similarities\n",
        "    similarities = cosine_similarity(text_vector, X)\n",
        "\n",
        "    # Find the closest example\n",
        "    closest = np.argmax(similarities, axis=1)[0]\n",
        "\n",
        "    # Identify the intent\n",
        "    intent = labels[closest]\n",
        "\n",
        "    # Select a random response\n",
        "    response = random.choice(dataset[intent][\"responses\"])\n",
        "    return response\n",
        "\n",
        "# Chatting with the bot\n",
        "print(\"Chatbot is ready to talk! Type 'quit' to exit.\")\n",
        "while True:\n",
        "    user_input = input(\"You: \")\n",
        "    if user_input.lower() == \"quit\":\n",
        "        break\n",
        "    response = chatbot_response(user_input)\n",
        "    print(\"Bot:\", response)\n"
      ],
      "metadata": {
        "colab": {
          "base_uri": "https://localhost:8080/"
        },
        "id": "daBarfoxSyXr",
        "outputId": "5f0bfb78-03c8-4ce4-8107-379b4d9ffeb6"
      },
      "execution_count": 6,
      "outputs": [
        {
          "name": "stdout",
          "output_type": "stream",
          "text": [
            "Chatbot is ready to talk! Type 'quit' to exit.\n",
            "You: hi\n",
            "Bot: Hi there!\n",
            "You: hiiii\n",
            "Bot: Hi there!\n",
            "You: hello\n",
            "Bot: Hey!\n",
            "You: oh\n",
            "Bot: Hi there!\n",
            "You: thanks\n",
            "Bot: No problem!\n",
            "You: bye\n",
            "Bot: Goodbye!\n",
            "You: quit\n"
          ]
        }
      ]
    },
    {
      "cell_type": "code",
      "source": [],
      "metadata": {
        "id": "5mcWj9apS3X-"
      },
      "execution_count": null,
      "outputs": []
    }
  ]
}