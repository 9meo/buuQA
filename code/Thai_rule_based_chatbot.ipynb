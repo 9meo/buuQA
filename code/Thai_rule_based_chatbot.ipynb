{
  "nbformat": 4,
  "nbformat_minor": 0,
  "metadata": {
    "colab": {
      "provenance": []
    },
    "kernelspec": {
      "name": "python3",
      "display_name": "Python 3"
    },
    "language_info": {
      "name": "python"
    }
  },
  "cells": [
    {
      "cell_type": "code",
      "execution_count": 1,
      "metadata": {
        "colab": {
          "base_uri": "https://localhost:8080/"
        },
        "id": "BqCwepJ0SDJ6",
        "outputId": "7efbf9cd-d761-4184-efed-42a73fcff0ce"
      },
      "outputs": [
        {
          "output_type": "stream",
          "name": "stdout",
          "text": [
            "Collecting lextoplus\n",
            "  Downloading lextoplus-0.0.5-py3-none-any.whl (234 kB)\n",
            "\u001b[2K     \u001b[90m━━━━━━━━━━━━━━━━━━━━━━━━━━━━━━━━━━━━━━━━\u001b[0m \u001b[32m234.2/234.2 kB\u001b[0m \u001b[31m2.5 MB/s\u001b[0m eta \u001b[36m0:00:00\u001b[0m\n",
            "\u001b[?25hCollecting marisa-trie (from lextoplus)\n",
            "  Downloading marisa_trie-1.1.0-cp310-cp310-manylinux_2_17_x86_64.manylinux2014_x86_64.whl (1.3 MB)\n",
            "\u001b[2K     \u001b[90m━━━━━━━━━━━━━━━━━━━━━━━━━━━━━━━━━━━━━━━━\u001b[0m \u001b[32m1.3/1.3 MB\u001b[0m \u001b[31m13.8 MB/s\u001b[0m eta \u001b[36m0:00:00\u001b[0m\n",
            "\u001b[?25hRequirement already satisfied: setuptools in /usr/local/lib/python3.10/dist-packages (from marisa-trie->lextoplus) (67.7.2)\n",
            "Installing collected packages: marisa-trie, lextoplus\n",
            "Successfully installed lextoplus-0.0.5 marisa-trie-1.1.0\n"
          ]
        }
      ],
      "source": [
        "!pip install lextoplus"
      ]
    },
    {
      "cell_type": "code",
      "source": [
        "import nltk\n",
        "nltk.download('punkt')\n",
        "nltk.download('wordnet')\n",
        "\n",
        "from nltk.chat.util import Chat, reflections\n",
        "from lextoplus import LexToPlus\n",
        "tokenizer = LexToPlus()\n",
        "# Define pairs of patterns and responses\n",
        "pairs = [\n",
        "    [\n",
        "        r\"ฉัน ชื่อ (.*)\",\n",
        "        [\"สวัสดี %1, สบายดีมั้ย\",]\n",
        "    ],\n",
        "    [\n",
        "        r\"hi|hey|hello|สวัสดี|สบาย ดี\",\n",
        "        [\"สวัสดีเจ้า\", \"ยินดีที่ได้รู้จัก\",]\n",
        "    ],\n",
        "    [\n",
        "        r\"คุณ ชื่อ (.*)\",\n",
        "        [\"ฉันชื่อตู้หู้\",]\n",
        "    ]\n",
        "]\n",
        "# Create chatbot\n",
        "chatbot = Chat(pairs, reflections)\n",
        "\n",
        "# Start conversation\n",
        "def chat():\n",
        "    print(\"สวัสดีครับ/ค่ะ! ฉันคือแชทบอทที่คุณสร้างขึ้นนะครับ/ค่ะ พิมพ์ 'quit' เมื่อต้องการจบการสนทนาครับ/ค่ะ\")\n",
        "#     chatbot.converse()\n",
        "    while True:\n",
        "        user_input = input(\"You: \")\n",
        "        if user_input.lower() == \"quit\":\n",
        "            break\n",
        "\n",
        "        user_input = tokenizer.tokenize(user_input)\n",
        "        user_input = ' '.join(user_input)\n",
        "        response = chatbot.respond(user_input)\n",
        "\n",
        "        if response is None:\n",
        "            response = \"Don't understand!\"\n",
        "        print(\"Bot:\", response)\n",
        "\n",
        "# Run chatbot\n",
        "if __name__ == \"__main__\":\n",
        "    chat()\n"
      ],
      "metadata": {
        "colab": {
          "base_uri": "https://localhost:8080/"
        },
        "id": "pKT-ExWNSM_P",
        "outputId": "93c473a3-e225-4128-e28d-8778f0111324"
      },
      "execution_count": 2,
      "outputs": [
        {
          "output_type": "stream",
          "name": "stderr",
          "text": [
            "[nltk_data] Downloading package punkt to /root/nltk_data...\n",
            "[nltk_data]   Unzipping tokenizers/punkt.zip.\n",
            "[nltk_data] Downloading package wordnet to /root/nltk_data...\n"
          ]
        },
        {
          "name": "stdout",
          "output_type": "stream",
          "text": [
            "numbers of word: 40702\n",
            "สวัสดีครับ/ค่ะ! ฉันคือแชทบอทที่คุณสร้างขึ้นนะครับ/ค่ะ พิมพ์ 'quit' เมื่อต้องการจบการสนทนาครับ/ค่ะ\n",
            "You: สบายดี\n",
            "Bot: ยินดีที่ได้รู้จัก\n",
            "You: สบายดีมั้ย\n",
            "Bot: ยินดีที่ได้รู้จัก\n",
            "You: คุณชื่ออะไรครับ\n",
            "Bot: ฉันชื่อตู้หู้\n",
            "You: quit\n"
          ]
        }
      ]
    },
    {
      "cell_type": "code",
      "source": [],
      "metadata": {
        "id": "ToKi2PXmSNCQ"
      },
      "execution_count": null,
      "outputs": []
    },
    {
      "cell_type": "code",
      "source": [],
      "metadata": {
        "id": "2lDKHhNiSNF5"
      },
      "execution_count": null,
      "outputs": []
    }
  ]
}